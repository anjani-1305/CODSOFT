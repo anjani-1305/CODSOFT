{
 "cells": [
  {
   "cell_type": "code",
   "execution_count": null,
   "metadata": {},
   "outputs": [],
   "source": [
    "# Install Surprise library if you haven't already\n",
    "# pip install scikit-surprise\n",
    "\n",
    "from surprise import Dataset, Reader, KNNBasic\n",
    "from surprise.model_selection import train_test_split\n",
    "\n",
    "# Load the MovieLens dataset (you can replace this with your own dataset)\n",
    "reader = Reader(line_format='user item rating timestamp', sep='\\t')\n",
    "data = Dataset.load_from_file('path_to_dataset/ml-100k/u.data', reader=reader)\n",
    "\n",
    "# Split the data into a training set and a test set\n",
    "trainset, testset = train_test_split(data, test_size=0.25)\n",
    "\n",
    "# Create a collaborative filtering model\n",
    "sim_options = {\n",
    "    'name': 'cosine',\n",
    "    'user_based': False  # Item-based collaborative filtering\n",
    "}\n",
    "\n",
    "model = KNNBasic(sim_options=sim_options)\n",
    "\n",
    "# Train the model on the training set\n",
    "model.fit(trainset)\n",
    "\n",
    "# Make recommendations for a user\n",
    "user_id = str(1)  # Replace with the user for whom you want to make recommendations\n",
    "user_items = set([item for (item, _) in trainset.ur[int(user_id)]])\n",
    "\n",
    "# Get recommendations for the user\n",
    "predictions = model.test(testset)\n",
    "\n",
    "recommendations = []\n",
    "for uid, iid, true_r, est, _ in predictions:\n",
    "    if uid == user_id and iid not in user_items:\n",
    "        recommendations.append((iid, est))\n",
    "\n",
    "# Sort the recommendations by estimated rating in descending order\n",
    "recommendations.sort(key=lambda x: x[1], reverse=True)\n",
    "\n",
    "# Print the top N recommendations\n",
    "top_N = 10  # Number of recommendations to display\n",
    "print(f\"Top {top_N} Recommendations for User {user_id}:\")\n",
    "\n",
    "for i, (item, rating) in enumerate(recommendations[:top_N]):\n",
    "    print(f\"{i + 1}: Item {item} (Estimated Rating: {rating:.2f})\")\n"
   ]
  }
 ],
 "metadata": {
  "language_info": {
   "name": "python"
  }
 },
 "nbformat": 4,
 "nbformat_minor": 5
}
